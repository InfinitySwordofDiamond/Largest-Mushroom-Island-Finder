{
  "cells": [
    {
      "cell_type": "markdown",
      "metadata": {
        "id": "view-in-github",
        "colab_type": "text"
      },
      "source": [
        "<a href=\"https://colab.research.google.com/github/InfinitySwordofDiamond/Largest-Mushroom-Island-Finder/blob/main/Largest%20Mushroom%20Island%20Finder.ipynb\" target=\"_parent\"><img src=\"https://colab.research.google.com/assets/colab-badge.svg\" alt=\"Open In Colab\"/></a>"
      ]
    },
    {
      "cell_type": "markdown",
      "source": [
        "--------------------------------------------------------------------------------"
      ],
      "metadata": {
        "id": "3jqIVAanp6SA"
      }
    },
    {
      "cell_type": "markdown",
      "source": [
        "# 1."
      ],
      "metadata": {
        "id": "GVNPs5HYpx4G"
      }
    },
    {
      "cell_type": "code",
      "source": [
        "!wget https://github.com/user-attachments/files/22084129/Largest.Mushroom.Island.Finder.zip > /dev/null 2>&1"
      ],
      "metadata": {
        "id": "Tgpa7BmIpvot"
      },
      "execution_count": null,
      "outputs": []
    },
    {
      "cell_type": "markdown",
      "source": [
        "--------------------------------------------------------------------------------"
      ],
      "metadata": {
        "id": "Yhsu6i0q1mC2"
      }
    },
    {
      "cell_type": "markdown",
      "source": [
        "--------------------------------------------------------------------------------"
      ],
      "metadata": {
        "id": "Tf30Ax0kpsq1"
      }
    },
    {
      "cell_type": "markdown",
      "source": [
        "# 2."
      ],
      "metadata": {
        "id": "kxKJ4DFfeJF9"
      }
    },
    {
      "cell_type": "code",
      "source": [
        "!unzip Largest.Mushroom.Island.Finder.zip"
      ],
      "metadata": {
        "id": "aZZax02PWO1C"
      },
      "execution_count": null,
      "outputs": []
    },
    {
      "cell_type": "markdown",
      "source": [
        "--------------------------------------------------------------------------------"
      ],
      "metadata": {
        "id": "fl-UdiQA1qn6"
      }
    },
    {
      "cell_type": "markdown",
      "source": [
        "# 3."
      ],
      "metadata": {
        "id": "XCF9UPxkehEI"
      }
    },
    {
      "cell_type": "code",
      "source": [
        "!./main"
      ],
      "metadata": {
        "id": "ZaCUOrHEyJFT"
      },
      "execution_count": null,
      "outputs": []
    }
  ],
  "metadata": {
    "colab": {
      "provenance": [],
      "gpuType": "T4",
      "include_colab_link": true
    },
    "kernelspec": {
      "display_name": "Python 3",
      "name": "python3"
    },
    "accelerator": "GPU"
  },
  "nbformat": 4,
  "nbformat_minor": 0
}
